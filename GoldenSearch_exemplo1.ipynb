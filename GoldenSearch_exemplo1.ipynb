{
  "nbformat": 4,
  "nbformat_minor": 0,
  "metadata": {
    "colab": {
      "provenance": [],
      "authorship_tag": "ABX9TyNRV5ELFTSxSeRouJ9Jozj3",
      "include_colab_link": true
    },
    "kernelspec": {
      "name": "python3",
      "display_name": "Python 3"
    },
    "language_info": {
      "name": "python"
    }
  },
  "cells": [
    {
      "cell_type": "markdown",
      "metadata": {
        "id": "view-in-github",
        "colab_type": "text"
      },
      "source": [
        "<a href=\"https://colab.research.google.com/github/aguilarmadeira/Optimization/blob/main/GoldenSearch_exemplo1.ipynb\" target=\"_parent\"><img src=\"https://colab.research.google.com/assets/colab-badge.svg\" alt=\"Open In Colab\"/></a>"
      ]
    },
    {
      "cell_type": "code",
      "execution_count": null,
      "metadata": {
        "colab": {
          "base_uri": "https://localhost:8080/"
        },
        "id": "1hDEmGFdsB5S",
        "outputId": "852512ac-42fa-4604-e42c-8025eb8777f7"
      },
      "outputs": [
        {
          "output_type": "stream",
          "name": "stdout",
          "text": [
            "Razão Áurea (phi): 1.6180\n",
            "\n",
            "Iteração Inicial:\n",
            "a = 0.0000, b = 4.0000, alpha = 2.4721\n",
            "x1 = 2.4721, f(x1) = 0.2229\n",
            "x2 = 1.5279, f(x2) = 0.2229\n",
            "\n",
            "Iteração 1:\n",
            "Reduzindo o intervalo para [x1, b].\n",
            "a = 2.4721, b = 4.0000, alpha = 0.9443\n",
            "x1 = 1.5279, f(x1) = 0.2229\n",
            "x2 = 3.0557, f(x2) = 1.1146\n",
            "\n",
            "Iteração 2:\n",
            "Reduzindo o intervalo para [a, x2].\n",
            "a = 2.4721, b = 3.0557, alpha = 0.3607\n",
            "x1 = 2.8328, f(x1) = 0.6936\n",
            "x2 = 1.5279, f(x2) = 1.1146\n",
            "\n",
            "Iteração 3:\n",
            "Reduzindo o intervalo para [a, x2].\n",
            "a = 2.4721, b = 1.5279, alpha = -0.5836\n",
            "x1 = 1.8885, f(x1) = 0.0124\n",
            "x2 = 2.8328, f(x2) = 1.1146\n",
            "\n",
            "O mínimo encontrado está em x = 2.0000\n"
          ]
        }
      ],
      "source": [
        "import numpy as np\n",
        "\n",
        "def golden_search(f, a, b, epsilon):\n",
        "    # Razão Áurea\n",
        "    phi = (1 + np.sqrt(5)) / 2\n",
        "    print(f\"Razão Áurea (phi): {phi:.4f}\")\n",
        "\n",
        "    # Inicializar os pontos internos\n",
        "    alpha = (b - a) / phi\n",
        "    x1 = a + alpha\n",
        "    x2 = b - alpha\n",
        "    f1 = f(x1)\n",
        "    f2 = f(x2)\n",
        "\n",
        "    print(f\"\\nIteração Inicial:\")\n",
        "    print(f\"a = {a:.4f}, b = {b:.4f}, alpha = {alpha:.4f}\")\n",
        "    print(f\"x1 = {x1:.4f}, f(x1) = {f1:.4f}\")\n",
        "    print(f\"x2 = {x2:.4f}, f(x2) = {f2:.4f}\")\n",
        "\n",
        "    iteration = 1\n",
        "    while (b - a) >= epsilon:\n",
        "        print(f\"\\nIteração {iteration}:\")\n",
        "\n",
        "        if f1 < f2:\n",
        "            b = x2\n",
        "            x2 = x1\n",
        "            x1 = a + (b - a) / phi\n",
        "            f1 = f(x1)\n",
        "            print(f\"Reduzindo o intervalo para [a, x2].\")\n",
        "        else:\n",
        "            a = x1\n",
        "            x1 = x2\n",
        "            x2 = b - (b - a) / phi\n",
        "            f2 = f(x2)\n",
        "            print(f\"Reduzindo o intervalo para [x1, b].\")\n",
        "\n",
        "        alpha = (b - a) / phi\n",
        "        print(f\"a = {a:.4f}, b = {b:.4f}, alpha = {alpha:.4f}\")\n",
        "        print(f\"x1 = {x1:.4f}, f(x1) = {f1:.4f}\")\n",
        "        print(f\"x2 = {x2:.4f}, f(x2) = {f2:.4f}\")\n",
        "\n",
        "        iteration += 1\n",
        "\n",
        "    # O ponto mínimo está no meio do intervalo [a, b]\n",
        "    minimum = (a + b) / 2\n",
        "    return minimum\n",
        "\n",
        "# Definir a função objetivo\n",
        "def f(x):\n",
        "    return (x - 2)**2\n",
        "\n",
        "# Definir intervalo e tolerância\n",
        "a = 0\n",
        "b = 4\n",
        "epsilon = 0.01\n",
        "\n",
        "# Executar o método da busca dourada\n",
        "minimum = golden_search(f, a, b, epsilon)\n",
        "print(f\"\\nO mínimo encontrado está em x = {minimum:.4f}\")\n"
      ]
    }
  ]
}